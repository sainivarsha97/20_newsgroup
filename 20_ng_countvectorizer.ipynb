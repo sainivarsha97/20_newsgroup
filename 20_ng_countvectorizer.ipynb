{
 "cells": [
  {
   "cell_type": "code",
   "execution_count": 2,
   "metadata": {},
   "outputs": [],
   "source": [
    "###   importing all libraries\n",
    "\n",
    "from sklearn import datasets\n",
    "from nltk.corpus import stopwords\n",
    "import random\n",
    "import string\n",
    "from nltk.stem import WordNetLemmatizer\n",
    "from nltk.corpus import wordnet\n",
    "import nltk\n",
    "from nltk.tokenize import word_tokenize,sent_tokenize\n",
    "from nltk import pos_tag\n",
    "import pickle"
   ]
  },
  {
   "cell_type": "code",
   "execution_count": 3,
   "metadata": {},
   "outputs": [],
   "source": [
    "###  making list of stopwords aand punctuators\n",
    "stopWords = stopwords.words('english')\n",
    "punct=list(string.punctuation)\n",
    "lemm = WordNetLemmatizer()\n",
    "stopWords=stopWords+punct"
   ]
  },
  {
   "cell_type": "code",
   "execution_count": 4,
   "metadata": {},
   "outputs": [],
   "source": [
    "### fetching datasets\n",
    "data=datasets.fetch_20newsgroups()\n"
   ]
  },
  {
   "cell_type": "code",
   "execution_count": 5,
   "metadata": {},
   "outputs": [],
   "source": [
    "###  finding location till where data is useless\n",
    "\n",
    "def no_of_lines(file1):\n",
    "    \"\"\"THIS FUNCTION RETURN THE NO OF REQUIRED LINES..\n",
    "        IT HELPS TO REMOVE THE HEADER PART\"\"\"\n",
    "    result=15\n",
    "    l1=[]\n",
    "    for h in file1:\n",
    "        h=h.split(\" \")\n",
    "        if(len(h)>0):\n",
    "            line=h[0]\n",
    "            if line=='Lines:':\n",
    "                \n",
    "                try:\n",
    "                    result=(h[1])\n",
    "                    break;\n",
    "                except:\n",
    "                    result=15\n",
    "            \n",
    "    return (result)\n",
    "        \n",
    "    "
   ]
  },
  {
   "cell_type": "code",
   "execution_count": 6,
   "metadata": {},
   "outputs": [],
   "source": [
    "### finding POS for lemmetization\n",
    "\n",
    "def get_wordnet_pos(treebank_tag):\n",
    "\n",
    "    if treebank_tag.startswith('J'):\n",
    "        return 'a'\n",
    "    elif treebank_tag.startswith('V'):\n",
    "        return 'v'\n",
    "    elif treebank_tag.startswith('N'):\n",
    "        return 'n'\n",
    "    elif treebank_tag.startswith('R'):\n",
    "        return 'r'\n",
    "    else:\n",
    "        return ''"
   ]
  },
  {
   "cell_type": "code",
   "execution_count": 7,
   "metadata": {},
   "outputs": [],
   "source": [
    "### finding the root words\n",
    "\n",
    "def lemmatization(pos):\n",
    "        l1=[]\n",
    "        for word in pos:\n",
    "            #print(type(word))\n",
    "            word=list(word)\n",
    "            a=get_wordnet_pos(word[1])\n",
    "            try:\n",
    "                new_word=lemm.lemmatize(word[0],pos=a)\n",
    "                l1.append(new_word)\n",
    "            except:\n",
    "                l1.append(word[0])\n",
    "        return l1   "
   ]
  },
  {
   "cell_type": "code",
   "execution_count": 98,
   "metadata": {},
   "outputs": [],
   "source": [
    "#### cleaning words\n",
    "\n",
    "def all_words(doc):\n",
    "    l1=(', '.join(doc))\n",
    "    l1=(word_tokenize(l1))\n",
    "    final_doc=[]\n",
    "    for l in l1:\n",
    "        l=''.join([i for i in l if not i.isdigit()])\n",
    "        for c in string.punctuation:\n",
    "            l=l.replace(c,\"\")\n",
    "        if len(l)>2:\n",
    "            if l.lower() not in stopWords:\n",
    "                 if not l.endswith(\"edu\"):\n",
    "                           final_doc.append(l.lower())\n",
    "    return(final_doc)\n",
    "   "
   ]
  },
  {
   "cell_type": "code",
   "execution_count": 99,
   "metadata": {},
   "outputs": [],
   "source": [
    "def document(train):\n",
    "    documents=[]\n",
    "    d=((train).split('\\n'))\n",
    "    try:\n",
    "        result=int(no_of_lines(d))\n",
    "    except:\n",
    "        result=15\n",
    "    \n",
    "    lines=d[-result:]\n",
    "    docs=all_words(lines)\n",
    "    #print(docs)\n",
    "       \n",
    "    pos=(pos_tag(docs))\n",
    "    #print(pos)\n",
    "        \n",
    "    document=lemmatization(pos)\n",
    "    \n",
    "    for w in document:\n",
    "        if w not in stopWords:\n",
    "            documents.append(w)\n",
    "        else:\n",
    "            continue\n",
    "    return documents\n",
    "    "
   ]
  },
  {
   "cell_type": "code",
   "execution_count": 112,
   "metadata": {},
   "outputs": [
    {
     "name": "stdout",
     "output_type": "stream",
     "text": [
      "\n"
     ]
    }
   ],
   "source": [
    "### creating data and target values\n",
    "\n",
    "text_documents=[]\n",
    "target_documents=[]\n",
    "for i in range(len(data.data)):\n",
    "    print(i)\n",
    "    text_documents.append(\" \".join(document(data.data[i])))\n",
    "    target_documents.append(data.target[i])\n"
   ]
  },
  {
   "cell_type": "code",
   "execution_count": 42,
   "metadata": {},
   "outputs": [],
   "source": [
    "### import countvectorizer\n",
    "\n",
    "from sklearn.feature_extraction.text import CountVectorizer"
   ]
  },
  {
   "cell_type": "code",
   "execution_count": 101,
   "metadata": {},
   "outputs": [],
   "source": [
    "### split data into train and test\n",
    "\n",
    "from sklearn.model_selection import train_test_split\n",
    "trainX,testX,trainY,testY=train_test_split(text_documents,target_documents,random_state=1,test_size=0.2)"
   ]
  },
  {
   "cell_type": "code",
   "execution_count": 105,
   "metadata": {},
   "outputs": [],
   "source": [
    "count_vex=CountVectorizer(max_features=30000)\n",
    "train_feature=count_vex.fit_transform(trainX)\n",
    "test_feature=count_vex.transform(testX)"
   ]
  },
  {
   "cell_type": "code",
   "execution_count": 106,
   "metadata": {},
   "outputs": [
    {
     "data": {
      "text/plain": [
       "0.8161732213875387"
      ]
     },
     "execution_count": 106,
     "metadata": {},
     "output_type": "execute_result"
    }
   ],
   "source": [
    "from sklearn.linear_model import LogisticRegression\n",
    "lr=LogisticRegression()\n",
    "lr.fit(train_feature,trainY)\n",
    "lr.score(test_feature,testY)"
   ]
  },
  {
   "cell_type": "code",
   "execution_count": null,
   "metadata": {},
   "outputs": [],
   "source": []
  }
 ],
 "metadata": {
  "kernelspec": {
   "display_name": "Python 3",
   "language": "python",
   "name": "python3"
  },
  "language_info": {
   "codemirror_mode": {
    "name": "ipython",
    "version": 3
   },
   "file_extension": ".py",
   "mimetype": "text/x-python",
   "name": "python",
   "nbconvert_exporter": "python",
   "pygments_lexer": "ipython3",
   "version": "3.7.0"
  }
 },
 "nbformat": 4,
 "nbformat_minor": 2
}
